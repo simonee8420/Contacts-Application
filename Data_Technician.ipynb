{
  "nbformat": 4,
  "nbformat_minor": 0,
  "metadata": {
    "colab": {
      "provenance": [],
      "authorship_tag": "ABX9TyN/zV22E40RA/YzgqydAKjJ",
      "include_colab_link": true
    },
    "kernelspec": {
      "name": "python3",
      "display_name": "Python 3"
    },
    "language_info": {
      "name": "python"
    }
  },
  "cells": [
    {
      "cell_type": "markdown",
      "metadata": {
        "id": "view-in-github",
        "colab_type": "text"
      },
      "source": [
        "<a href=\"https://colab.research.google.com/github/simonee8420/Contacts-Application/blob/main/Data_Technician.ipynb\" target=\"_parent\"><img src=\"https://colab.research.google.com/assets/colab-badge.svg\" alt=\"Open In Colab\"/></a>"
      ]
    },
    {
      "cell_type": "markdown",
      "metadata": {
        "id": "888ba9f6"
      },
      "source": [
        "Here's a Python script that can gather basic system information. This can be useful for quickly checking the specifications of a server."
      ]
    },
    {
      "cell_type": "code",
      "metadata": {
        "colab": {
          "base_uri": "https://localhost:8080/"
        },
        "id": "dde2ac56",
        "outputId": "ef450d96-0a5b-4fd4-a5cd-cfe884a9eeef"
      },
      "source": [
        "import platform\n",
        "import psutil\n",
        "import os\n",
        "\n",
        "def get_system_info():\n",
        "    \"\"\"Gathers and prints basic system information.\"\"\"\n",
        "    print(\"--- System Information ---\")\n",
        "    print(f\"Operating System: {platform.system()} {platform.release()}\")\n",
        "    print(f\"Kernel Version: {platform.version()}\")\n",
        "    print(f\"Architecture: {platform.machine()}\")\n",
        "    print(f\"Processor: {platform.processor()}\")\n",
        "    print(f\"Python Version: {platform.python_version()}\")\n",
        "    print(f\"Hostname: {platform.node()}\")\n",
        "\n",
        "    # CPU Information\n",
        "    print(\"\\n--- CPU Information ---\")\n",
        "    print(f\"Physical Cores: {psutil.cpu_count(logical=False)}\")\n",
        "    print(f\"Total Cores (Logical): {psutil.cpu_count(logical=True)}\")\n",
        "    print(f\"Current CPU Usage: {psutil.cpu_percent()}%\")\n",
        "\n",
        "    # Memory Information\n",
        "    print(\"\\n--- Memory Information ---\")\n",
        "    mem = psutil.virtual_memory()\n",
        "    print(f\"Total Memory: {mem.total / (1024**3):.2f} GB\")\n",
        "    print(f\"Available Memory: {mem.available / (1024**3):.2f} GB\")\n",
        "    print(f\"Used Memory: {mem.used / (1024**3):.2f} GB\")\n",
        "    print(f\"Memory Usage: {mem.percent}%\")\n",
        "\n",
        "    # Disk Information (assuming root partition)\n",
        "    print(\"\\n--- Disk Information ---\")\n",
        "    if os.name == 'posix': # For Linux/macOS\n",
        "        disk = psutil.disk_usage('/')\n",
        "        print(f\"Total Disk Space: {disk.total / (1024**3):.2f} GB\")\n",
        "        print(f\"Used Disk Space: {disk.used / (1024**3):.2f} GB\")\n",
        "        print(f\"Free Disk Space: {disk.free / (1024**3):.2f} GB\")\n",
        "        print(f\"Disk Usage: {disk.percent}%\")\n",
        "    elif os.name == 'nt': # For Windows\n",
        "        disk = psutil.disk_usage('C:\\\\')\n",
        "        print(f\"Total Disk Space: {disk.total / (1024**3):.2f} GB\")\n",
        "        print(f\"Used Disk Space: {disk.used / (1024**3):.2f} GB\")\n",
        "        print(f\"Free Disk Space: {disk.free / (1024**3):.2f} GB\")\n",
        "        print(f\"Disk Usage: {disk.percent}%\")\n",
        "\n",
        "\n",
        "get_system_info()"
      ],
      "execution_count": 1,
      "outputs": [
        {
          "output_type": "stream",
          "name": "stdout",
          "text": [
            "--- System Information ---\n",
            "Operating System: Linux 6.1.123+\n",
            "Kernel Version: #1 SMP PREEMPT_DYNAMIC Sun Mar 30 16:01:29 UTC 2025\n",
            "Architecture: x86_64\n",
            "Processor: x86_64\n",
            "Python Version: 3.11.13\n",
            "Hostname: 383d6ce35d70\n",
            "\n",
            "--- CPU Information ---\n",
            "Physical Cores: 1\n",
            "Total Cores (Logical): 2\n",
            "Current CPU Usage: 44.9%\n",
            "\n",
            "--- Memory Information ---\n",
            "Total Memory: 12.67 GB\n",
            "Available Memory: 11.83 GB\n",
            "Used Memory: 0.57 GB\n",
            "Memory Usage: 6.6%\n",
            "\n",
            "--- Disk Information ---\n",
            "Total Disk Space: 107.72 GB\n",
            "Used Disk Space: 38.20 GB\n",
            "Free Disk Space: 69.50 GB\n",
            "Disk Usage: 35.5%\n"
          ]
        }
      ]
    },
    {
      "cell_type": "markdown",
      "metadata": {
        "id": "30cce8fc"
      },
      "source": [
        "This script requires the `psutil` library. You can install it using pip:"
      ]
    },
    {
      "cell_type": "code",
      "metadata": {
        "colab": {
          "base_uri": "https://localhost:8080/"
        },
        "id": "61f256bc",
        "outputId": "538e58e9-369b-4959-ee95-e6d5006b87f4"
      },
      "source": [
        "%pip install psutil"
      ],
      "execution_count": 2,
      "outputs": [
        {
          "output_type": "stream",
          "name": "stdout",
          "text": [
            "Requirement already satisfied: psutil in /usr/local/lib/python3.11/dist-packages (5.9.5)\n"
          ]
        }
      ]
    },
    {
      "cell_type": "markdown",
      "metadata": {
        "id": "4d9d561e"
      },
      "source": [
        "Here's a simple example of a network scanner using the `socket` module. This can be used to check if a specific port is open on a host. **Note:** Running network scans on networks you don't own or have permission to can be illegal and unethical."
      ]
    },
    {
      "cell_type": "code",
      "metadata": {
        "id": "83afc5fa"
      },
      "source": [
        "import socket\n",
        "\n",
        "def scan_port(host, port):\n",
        "    \"\"\"Checks if a port is open on a given host.\"\"\"\n",
        "    try:\n",
        "        sock = socket.socket(socket.AF_INET, socket.SOCK_STREAM)\n",
        "        sock.settimeout(1)  # Timeout in seconds\n",
        "        result = sock.connect_ex((host, port))\n",
        "        if result == 0:\n",
        "            print(f\"Port {port} on {host} is OPEN\")\n",
        "        else:\n",
        "            print(f\"Port {port} on {host} is CLOSED\")\n",
        "        sock.close()\n",
        "    except socket.gaierror:\n",
        "        print(f\"Hostname {host} could not be resolved.\")\n",
        "    except socket.error:\n",
        "        print(f\"Could not connect to {host}.\")\n",
        "\n",
        "# Example usage (replace with your target host and port)\n",
        "# scan_port(\"example.com\", 80)\n",
        "# scan_port(\"192.168.1.1\", 22)"
      ],
      "execution_count": 3,
      "outputs": []
    },
    {
      "cell_type": "markdown",
      "metadata": {
        "id": "911f9ffc"
      },
      "source": [
        " example of how they might start building a  system monitoring script that checks CPU usage periodically. This could be expanded to monitor other resources and alert on thresholds."
      ]
    },
    {
      "cell_type": "code",
      "metadata": {
        "id": "aeb00296"
      },
      "source": [
        "import psutil\n",
        "import time\n",
        "\n",
        "def monitor_cpu_usage(interval=5):\n",
        "    \"\"\"Monitors CPU usage periodically.\"\"\"\n",
        "    print(\"Monitoring CPU usage... Press Ctrl+C to stop.\")\n",
        "    try:\n",
        "        while True:\n",
        "            cpu_percent = psutil.cpu_percent(interval=interval)\n",
        "            print(f\"Current CPU Usage: {cpu_percent}%\")\n",
        "            # Add logic here to alert if usage is too high\n",
        "            # For example: if cpu_percent > 80: print(\"High CPU usage!\")\n",
        "    except KeyboardInterrupt:\n",
        "        print(\"\\nMonitoring stopped.\")\n",
        "\n",
        "# Example usage\n",
        "# monitor_cpu_usage(interval=2) # Monitor every 2 seconds"
      ],
      "execution_count": 4,
      "outputs": []
    }
  ]
}